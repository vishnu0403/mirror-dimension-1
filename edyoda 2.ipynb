{
 "cells": [
  {
   "cell_type": "code",
   "execution_count": 1,
   "id": "6dac079c",
   "metadata": {},
   "outputs": [
    {
     "name": "stdout",
     "output_type": "stream",
     "text": [
      "retypuj\n"
     ]
    }
   ],
   "source": [
    "test = 'jupyter'\n",
    "print(test[::-1])"
   ]
  },
  {
   "cell_type": "code",
   "execution_count": 2,
   "id": "78f4a7d6",
   "metadata": {},
   "outputs": [
    {
     "name": "stdout",
     "output_type": "stream",
     "text": [
      "AIDNI\n"
     ]
    }
   ],
   "source": [
    "test = 'INDIA'\n",
    "print(test[::-1])"
   ]
  },
  {
   "cell_type": "code",
   "execution_count": null,
   "id": "590cb936",
   "metadata": {},
   "outputs": [],
   "source": []
  }
 ],
 "metadata": {
  "kernelspec": {
   "display_name": "Python 3",
   "language": "python",
   "name": "python3"
  },
  "language_info": {
   "codemirror_mode": {
    "name": "ipython",
    "version": 3
   },
   "file_extension": ".py",
   "mimetype": "text/x-python",
   "name": "python",
   "nbconvert_exporter": "python",
   "pygments_lexer": "ipython3",
   "version": "3.8.8"
  }
 },
 "nbformat": 4,
 "nbformat_minor": 5
}
